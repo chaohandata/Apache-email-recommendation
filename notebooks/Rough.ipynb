{
 "cells": [
  {
   "cell_type": "code",
   "execution_count": 1,
   "metadata": {
    "collapsed": true
   },
   "outputs": [],
   "source": [
    "from sys import getsizeof\n",
    "a = 10\n",
    "print (getsizeof(a))"
   ]
  },
  {
   "cell_type": "markdown",
   "metadata": {},
   "source": [
    "# Locality Sensitive Hashing Example\n",
    "### LSHForest: Random projection hashing algorithm based on distance measure 1-cosine similarity"
   ]
  },
  {
   "cell_type": "code",
   "execution_count": 2,
   "metadata": {
    "collapsed": true
   },
   "outputs": [],
   "source": [
    "from sklearn.neighbors import LSHForest"
   ]
  },
  {
   "cell_type": "code",
   "execution_count": 3,
   "metadata": {},
   "outputs": [
    {
     "name": "stderr",
     "output_type": "stream",
     "text": [
      "/Users/sanket/Library/Python/2.7/lib/python/site-packages/sklearn/random_projection.py:376: DataDimensionalityWarning: The number of components is higher than the number of features: n_features < n_components (3 < 32).The dimensionality of the problem will not be reduced.\n",
      "  DataDimensionalityWarning)\n"
     ]
    }
   ],
   "source": [
    "X_train = [[5, 5, 2], [21, 5, 5], [1, 1, 1], [8, 9, 1], [6, 10, 2]]\n",
    "X_test = [[9, 1, 6], [3, 1, 10], [7, 10, 3]]\n",
    "lshf = LSHForest(random_state=42)\n",
    "lshf.fit(X_train)\n",
    "distances, indices = lshf.kneighbors(X_train, n_neighbors=2)"
   ]
  },
  {
   "cell_type": "code",
   "execution_count": 4,
   "metadata": {},
   "outputs": [
    {
     "data": {
      "text/plain": [
       "array([[  0.00000000e+00,   2.01808013e-02],\n",
       "       [  0.00000000e+00,   1.40213920e-01],\n",
       "       [  0.00000000e+00,   5.71909584e-02],\n",
       "       [  1.11022302e-16,   2.01808013e-02],\n",
       "       [  0.00000000e+00,   2.07635068e-02]])"
      ]
     },
     "execution_count": 4,
     "metadata": {},
     "output_type": "execute_result"
    }
   ],
   "source": [
    "distances"
   ]
  },
  {
   "cell_type": "code",
   "execution_count": 5,
   "metadata": {},
   "outputs": [
    {
     "data": {
      "text/plain": [
       "array([[0, 3],\n",
       "       [1, 0],\n",
       "       [2, 0],\n",
       "       [3, 0],\n",
       "       [4, 3]])"
      ]
     },
     "execution_count": 5,
     "metadata": {},
     "output_type": "execute_result"
    }
   ],
   "source": [
    "indices"
   ]
  },
  {
   "cell_type": "code",
   "execution_count": 6,
   "metadata": {
    "collapsed": true
   },
   "outputs": [],
   "source": [
    "from sklearn.metrics.pairwise import cosine_similarity\n",
    "sims = cosine_similarity(X_train)"
   ]
  },
  {
   "cell_type": "code",
   "execution_count": 7,
   "metadata": {
    "collapsed": true
   },
   "outputs": [],
   "source": [
    "dist = 1 - sims"
   ]
  },
  {
   "cell_type": "code",
   "execution_count": 8,
   "metadata": {},
   "outputs": [
    {
     "data": {
      "text/plain": [
       "array([[ 1.        ,  0.85978608,  0.94280904,  0.9798192 ,  0.96609178],\n",
       "       [ 0.85978608,  1.        ,  0.80771904,  0.81421541,  0.70942776],\n",
       "       [ 0.94280904,  0.80771904,  1.        ,  0.86007327,  0.87831007],\n",
       "       [ 0.9798192 ,  0.81421541,  0.86007327,  1.        ,  0.97923649],\n",
       "       [ 0.96609178,  0.70942776,  0.87831007,  0.97923649,  1.        ]])"
      ]
     },
     "execution_count": 8,
     "metadata": {},
     "output_type": "execute_result"
    }
   ],
   "source": [
    "sims"
   ]
  },
  {
   "cell_type": "code",
   "execution_count": 9,
   "metadata": {},
   "outputs": [
    {
     "data": {
      "text/plain": [
       "array([[  0.00000000e+00,   1.40213920e-01,   5.71909584e-02,\n",
       "          2.01808013e-02,   3.39082169e-02],\n",
       "       [  1.40213920e-01,   0.00000000e+00,   1.92280960e-01,\n",
       "          1.85784586e-01,   2.90572237e-01],\n",
       "       [  5.71909584e-02,   1.92280960e-01,  -2.22044605e-16,\n",
       "          1.39926731e-01,   1.21689934e-01],\n",
       "       [  2.01808013e-02,   1.85784586e-01,   1.39926731e-01,\n",
       "          1.11022302e-16,   2.07635068e-02],\n",
       "       [  3.39082169e-02,   2.90572237e-01,   1.21689934e-01,\n",
       "          2.07635068e-02,   0.00000000e+00]])"
      ]
     },
     "execution_count": 9,
     "metadata": {},
     "output_type": "execute_result"
    }
   ],
   "source": [
    "dist"
   ]
  },
  {
   "cell_type": "code",
   "execution_count": 10,
   "metadata": {},
   "outputs": [
    {
     "data": {
      "text/plain": [
       "array([[0, 3, 4, 2, 1],\n",
       "       [1, 0, 3, 2, 4],\n",
       "       [2, 0, 4, 3, 1],\n",
       "       [3, 0, 4, 2, 1],\n",
       "       [4, 3, 0, 2, 1]])"
      ]
     },
     "execution_count": 10,
     "metadata": {},
     "output_type": "execute_result"
    }
   ],
   "source": [
    "dist.argsort()"
   ]
  },
  {
   "cell_type": "markdown",
   "metadata": {},
   "source": [
    "###### Results above show that the nearest neighbours given by LSH are based on cosine similarity and are close to the actual brute force cosine similarity measures."
   ]
  },
  {
   "cell_type": "code",
   "execution_count": null,
   "metadata": {
    "collapsed": true
   },
   "outputs": [],
   "source": []
  }
 ],
 "metadata": {
  "kernelspec": {
   "display_name": "Python 2",
   "language": "python",
   "name": "python2"
  },
  "language_info": {
   "codemirror_mode": {
    "name": "ipython",
    "version": 2
   },
   "file_extension": ".py",
   "mimetype": "text/x-python",
   "name": "python",
   "nbconvert_exporter": "python",
   "pygments_lexer": "ipython2",
   "version": "2.7.10"
  }
 },
 "nbformat": 4,
 "nbformat_minor": 2
}
