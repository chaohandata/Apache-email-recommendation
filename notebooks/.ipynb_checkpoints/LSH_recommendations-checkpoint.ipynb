{
 "cells": [
  {
   "cell_type": "markdown",
   "metadata": {},
   "source": [
    "# Locality Sensitivity Hashing\n",
    "\n",
    "**Using locality sensitive hashing we will compare the results with the brute force approach of cosine similarity to compare the results.**"
   ]
  },
  {
   "cell_type": "markdown",
   "metadata": {},
   "source": [
    "## Loading the data and bringing in proper format"
   ]
  },
  {
   "cell_type": "code",
   "execution_count": 1,
   "metadata": {
    "collapsed": true
   },
   "outputs": [],
   "source": [
    "from sklearn.neighbors import LSHForest"
   ]
  },
  {
   "cell_type": "code",
   "execution_count": 2,
   "metadata": {
    "collapsed": true
   },
   "outputs": [],
   "source": [
    "import re\n",
    "import nltk\n",
    "import pandas as pd\n",
    "import numpy as np\n",
    "from sys import getsizeof\n",
    "from os import listdir\n",
    "from os.path import isfile, join\n",
    "from nltk.tokenize import RegexpTokenizer\n",
    "from nltk.stem.snowball import SnowballStemmer\n",
    "from sklearn.feature_extraction.text import TfidfVectorizer\n",
    "from sklearn.metrics.pairwise import cosine_similarity"
   ]
  },
  {
   "cell_type": "code",
   "execution_count": 3,
   "metadata": {
    "collapsed": true
   },
   "outputs": [],
   "source": [
    "tokenizer = RegexpTokenizer(r'\\w+')\n",
    "stopwords = set(nltk.corpus.stopwords.words('english'))\n",
    "stemmer = SnowballStemmer(\"english\")"
   ]
  },
  {
   "cell_type": "code",
   "execution_count": 4,
   "metadata": {
    "collapsed": true
   },
   "outputs": [],
   "source": [
    "# tokenizer.tokenize('Eighty-seven miles to go, yet.  Onward!')\n",
    "def tokenize_stop_stem(text):\n",
    "    tokens = tokenizer.tokenize(text)\n",
    "    # filter out any tokens not containing letters (e.g., numeric tokens, raw punctuation) and stem\n",
    "    filtered_tokens = set()\n",
    "    for token in tokens:\n",
    "        token = token.lower()\n",
    "        if token not in stopwords:\n",
    "            if not re.search('[0-9]', token):\n",
    "                try:\n",
    "                    token = stemmer.stem(token)\n",
    "                    filtered_tokens.add(token)\n",
    "                except UnicodeDecodeError:\n",
    "                    print 'illeagal token ignored:',token\n",
    "                    pass\n",
    "    return filtered_tokens"
   ]
  },
  {
   "cell_type": "code",
   "execution_count": 5,
   "metadata": {
    "collapsed": true
   },
   "outputs": [],
   "source": [
    "files = [f for f in listdir(\"/Users/sanket/Desktop/nlp_emailrecs/sample_data\") if isfile(join(\"/Users/sanket/Desktop/nlp_emailrecs/sample_data\", f)) and f.endswith(\".email\")]"
   ]
  },
  {
   "cell_type": "code",
   "execution_count": 6,
   "metadata": {
    "collapsed": true
   },
   "outputs": [],
   "source": [
    "all_emails = []\n",
    "for file in files:\n",
    "    f = open(join(\"/Users/sanket/Desktop/nlp_emailrecs/sample_data\", file))\n",
    "    text = f.read()\n",
    "    f.close()\n",
    "    all_emails.append(text)"
   ]
  },
  {
   "cell_type": "code",
   "execution_count": 7,
   "metadata": {
    "collapsed": true
   },
   "outputs": [],
   "source": [
    "from sklearn.feature_extraction.text import TfidfVectorizer"
   ]
  },
  {
   "cell_type": "code",
   "execution_count": 8,
   "metadata": {},
   "outputs": [
    {
     "name": "stdout",
     "output_type": "stream",
     "text": [
      "CPU times: user 1min 8s, sys: 286 ms, total: 1min 8s\n",
      "Wall time: 1min 8s\n"
     ]
    }
   ],
   "source": [
    "tfidf_vectorizer = TfidfVectorizer(max_features=2000000, stop_words='english', use_idf=True, tokenizer=tokenize_stop_stem)\n",
    "%time tfidf_matrix = tfidf_vectorizer.fit_transform(all_emails)"
   ]
  },
  {
   "cell_type": "code",
   "execution_count": 9,
   "metadata": {},
   "outputs": [
    {
     "data": {
      "text/plain": [
       "(22431, 31245)"
      ]
     },
     "execution_count": 9,
     "metadata": {},
     "output_type": "execute_result"
    }
   ],
   "source": [
    "tfidf_matrix.shape"
   ]
  },
  {
   "cell_type": "code",
   "execution_count": 96,
   "metadata": {},
   "outputs": [
    {
     "data": {
      "text/plain": [
       "LSHForest(min_hash_match=4, n_candidates=100, n_estimators=12, n_neighbors=30,\n",
       "     radius=2.0, radius_cutoff_ratio=0.9, random_state=7)"
      ]
     },
     "execution_count": 96,
     "metadata": {},
     "output_type": "execute_result"
    }
   ],
   "source": [
    "lshf = LSHForest(random_state=7, n_estimators=12, n_neighbors=30, radius=2.0, n_candidates=100)\n",
    "lshf.fit(tfidf_matrix)"
   ]
  },
  {
   "cell_type": "code",
   "execution_count": 102,
   "metadata": {},
   "outputs": [
    {
     "name": "stdout",
     "output_type": "stream",
     "text": [
      "CPU times: user 3min 54s, sys: 1.06 s, total: 3min 55s\n",
      "Wall time: 3min 57s\n"
     ]
    }
   ],
   "source": [
    "%time distances, indices = lshf.kneighbors(tfidf_matrix, n_neighbors=10)"
   ]
  },
  {
   "cell_type": "code",
   "execution_count": 73,
   "metadata": {
    "collapsed": true
   },
   "outputs": [
    {
     "data": {
      "text/plain": [
       "array([ 0.        ,  0.09033238,  0.37986049,  0.54270443,  0.64086232,\n",
       "        0.66536793,  0.82393733,  0.84540617,  0.87127314,  0.87206205,\n",
       "        0.89091644,  0.9026256 ,  0.90553224,  0.9056362 ,  0.91064049,\n",
       "        0.91093628,  0.91105289,  0.9115881 ,  0.91197447,  0.91262001,\n",
       "        0.91330232,  0.91542547,  0.91845595,  0.91897143,  0.9195492 ,\n",
       "        0.92150445,  0.92434317,  0.9254439 ,  0.92588728,  0.92746333])"
      ]
     },
     "execution_count": 73,
     "metadata": {},
     "output_type": "execute_result"
    }
   ],
   "source": [
    "distances[0][:]"
   ]
  },
  {
   "cell_type": "code",
   "execution_count": 74,
   "metadata": {
    "collapsed": true
   },
   "outputs": [
    {
     "data": {
      "text/plain": [
       "array([    0, 19805, 18548, 14945, 20476,  5639, 14663,  8792, 19454,\n",
       "       15329, 14348,  7968,  5825, 18533,   982,   397,  7630,  6590,\n",
       "        8567,  1237,  3428,  2691,  8220, 19127,  8035, 12647, 22378,\n",
       "       21811,  6118, 12761])"
      ]
     },
     "execution_count": 74,
     "metadata": {},
     "output_type": "execute_result"
    }
   ],
   "source": [
    "indices[0][:]"
   ]
  },
  {
   "cell_type": "code",
   "execution_count": 75,
   "metadata": {
    "collapsed": true
   },
   "outputs": [
    {
     "data": {
      "text/plain": [
       "array([    0, 19805, 18548, 14945, 20476,  5639, 14663,  8792, 19454,\n",
       "       15329, 14348,  7968,  5825, 18533,   982,   397,  7630,  6590,\n",
       "        8567,  1237,  3428,  2691,  8220, 19127,  8035, 12647, 22378,\n",
       "       21811,  6118, 12761])"
      ]
     },
     "execution_count": 75,
     "metadata": {},
     "output_type": "execute_result"
    }
   ],
   "source": [
    "indices[0][:]"
   ]
  },
  {
   "cell_type": "code",
   "execution_count": 36,
   "metadata": {
    "collapsed": true
   },
   "outputs": [],
   "source": [
    "from sklearn.metrics.pairwise import cosine_similarity"
   ]
  },
  {
   "cell_type": "code",
   "execution_count": 37,
   "metadata": {},
   "outputs": [
    {
     "name": "stdout",
     "output_type": "stream",
     "text": [
      "CPU times: user 24.7 s, sys: 13 s, total: 37.6 s\n",
      "Wall time: 41 s\n"
     ]
    }
   ],
   "source": [
    "%time cosine_sim = cosine_similarity(tfidf_matrix)"
   ]
  },
  {
   "cell_type": "code",
   "execution_count": 148,
   "metadata": {
    "collapsed": true
   },
   "outputs": [],
   "source": [
    "temp = cosine_sim.copy()"
   ]
  },
  {
   "cell_type": "code",
   "execution_count": 115,
   "metadata": {},
   "outputs": [
    {
     "data": {
      "text/plain": [
       "array([19805, 18548, 14945, 17521,   907,  3202, 16175, 20476, 11095, 13174])"
      ]
     },
     "execution_count": 115,
     "metadata": {},
     "output_type": "execute_result"
    }
   ],
   "source": [
    "temp[0].argsort()[::-1][1:11]"
   ]
  },
  {
   "cell_type": "code",
   "execution_count": 43,
   "metadata": {
    "collapsed": true
   },
   "outputs": [
    {
     "name": "stdout",
     "output_type": "stream",
     "text": [
      "[    0 19805 18548 14945 20476  5639 14663  8792 19454 15329 14348  7968\n",
      "  5825 18533   982   397  7630  6590  8567  1237] \n",
      "\n",
      "[19805 18548 14945 17521   907  3202 16175 20476 11095 13174]\n"
     ]
    }
   ],
   "source": [
    "print indices1[0][:],'\\n'\n",
    "print temp[0].argsort()[::-1][1:11]"
   ]
  },
  {
   "cell_type": "code",
   "execution_count": 23,
   "metadata": {
    "collapsed": true
   },
   "outputs": [
    {
     "name": "stdout",
     "output_type": "stream",
     "text": [
      "[ 1982  5284 16141 12251 18604  1205 10619 15713 21518  7633 11342 17883\n",
      " 13714  1815 18669 19913 11484 17602  1130 13088] \n",
      "[ 0.          0.22318302  0.57601685  0.6935113   0.69411127  0.70785145\n",
      "  0.70848064  0.71203438  0.71592439  0.71798489  0.72365856  0.72587709\n",
      "  0.72872828  0.73075324  0.73186166  0.73289166  0.73308688  0.73352027\n",
      "  0.73429519  0.74175079]\n",
      "[ 5284 20974 16450 11404 17533 16141 16870 14578 15956 19689]\n"
     ]
    }
   ],
   "source": [
    "print indices1[1982][:],'\\n',distances1[1982][:]\n",
    "print temp[1982].argsort()[::-1][1:11]"
   ]
  },
  {
   "cell_type": "code",
   "execution_count": 103,
   "metadata": {
    "collapsed": true
   },
   "outputs": [],
   "source": [
    "def measure_count(i):\n",
    "    counter = 0\n",
    "    approx_neighbour_set = set(indices1[i][:])\n",
    "    for neighbour in temp[i].argsort()[::-1][1:5]:\n",
    "        if temp[i][neighbour] > 0.5:\n",
    "            \n",
    "        if neighbour in approx_neighbour_set:\n",
    "            counter = counter + 1\n",
    "            return counter\n",
    "    return counter"
   ]
  },
  {
   "cell_type": "code",
   "execution_count": 150,
   "metadata": {},
   "outputs": [
    {
     "name": "stdout",
     "output_type": "stream",
     "text": [
      "42026\n"
     ]
    }
   ],
   "source": [
    "total = cosine_sim.shape[0]\n",
    "good_recs = 0\n",
    "for i in range(total):\n",
    "    for neighbour in temp[i].argsort()[::-1][1:5]:\n",
    "        if temp[i][neighbour] > 0.5:\n",
    "            good_recs = good_recs + 1\n",
    "\n",
    "print good_recs"
   ]
  },
  {
   "cell_type": "code",
   "execution_count": 152,
   "metadata": {},
   "outputs": [
    {
     "data": {
      "text/plain": [
       "89724"
      ]
     },
     "execution_count": 152,
     "metadata": {},
     "output_type": "execute_result"
    }
   ],
   "source": [
    "total*4"
   ]
  },
  {
   "cell_type": "code",
   "execution_count": 154,
   "metadata": {},
   "outputs": [
    {
     "data": {
      "text/plain": [
       "0.4683919575587357"
      ]
     },
     "execution_count": 154,
     "metadata": {},
     "output_type": "execute_result"
    }
   ],
   "source": [
    "42026/89724.0"
   ]
  },
  {
   "cell_type": "code",
   "execution_count": 168,
   "metadata": {},
   "outputs": [
    {
     "name": "stdout",
     "output_type": "stream",
     "text": [
      "0.3 0.2505672869\n",
      "0.35 0.276893746059\n",
      "0.4 0.31102464332\n",
      "0.45 0.351322365892\n",
      "0.5 0.39573121401\n",
      "0.55 0.445186374778\n",
      "0.6 0.503228641942\n",
      "0.65 0.571446389224\n",
      "0.7 0.646852781263\n",
      "0.75 0.734312866482\n",
      "0.8 0.82046040352\n",
      "0.86 0.905487804878\n",
      "0.9 0.957738542449\n"
     ]
    }
   ],
   "source": [
    "total = cosine_sim.shape[0]\n",
    "precision = []\n",
    "for threshold in [0.3, 0.35, 0.4, 0.45, 0.5, 0.55, 0.6, 0.65, 0.7, 0.75, 0.8, 0.86, 0.9]:\n",
    "    good_recs = 0\n",
    "    matched_recs = 0\n",
    "    for i in range(total):\n",
    "        approx_neighbour_set = set(indices1[i][:])\n",
    "        for neighbour in temp[i].argsort()[::-1][1:5]:\n",
    "            if temp[i][neighbour] >= threshold:\n",
    "                good_recs = good_recs + 1.0\n",
    "                if neighbour in approx_neighbour_set:\n",
    "                    matched_recs = matched_recs + 1\n",
    "    print threshold,matched_recs / (good_recs*1.0)\n",
    "    precision.append( matched_recs / (good_recs*1.0) )"
   ]
  },
  {
   "cell_type": "code",
   "execution_count": 170,
   "metadata": {},
   "outputs": [
    {
     "data": {
      "text/plain": [
       "0.9"
      ]
     },
     "execution_count": 170,
     "metadata": {},
     "output_type": "execute_result"
    }
   ],
   "source": [
    "threshold"
   ]
  },
  {
   "cell_type": "code",
   "execution_count": 181,
   "metadata": {},
   "outputs": [
    {
     "data": {
      "image/png": "[encoded data removed]",
      "text/plain": [
       "<matplotlib.figure.Figure at 0x114a96450>"
      ]
     },
     "metadata": {},
     "output_type": "display_data"
    }
   ],
   "source": [
    "import matplotlib.pyplot as plt\n",
    "%matplotlib inline\n",
    "threshold_list = [0.3, 0.35, 0.4, 0.45, 0.5, 0.55, 0.6, 0.65, 0.7, 0.75, 0.8, 0.86, 0.9]\n",
    "plt.plot(precision,threshold_list,color='red')\n",
    "plt.xlabel(\"threshold\")\n",
    "plt.ylabel(\"precision\")\n",
    "plt.title(\"Good recommendation Threshold V/S Approximate NN precision\")\n",
    "plt.ylim([0,1.1])\n",
    "plt.show()"
   ]
  },
  {
   "cell_type": "markdown",
   "metadata": {},
   "source": [
    "## Save objects to file for later usage"
   ]
  },
  {
   "cell_type": "code",
   "execution_count": 182,
   "metadata": {},
   "outputs": [
    {
     "data": {
      "text/plain": [
       "5"
      ]
     },
     "execution_count": 182,
     "metadata": {},
     "output_type": "execute_result"
    }
   ],
   "source": [
    "import pickle\n",
    "with open('precision_list.pkl', 'wb') as output:\n",
    "    pickle.dump(precision, output)"
   ]
  },
  {
   "cell_type": "code",
   "execution_count": 166,
   "metadata": {
    "collapsed": true
   },
   "outputs": [],
   "source": [
    "good_recs = 0\n",
    "matched_recs = 0\n",
    "for i in range(total):\n",
    "    approx_neighbour_set = set(indices1[i][:])\n",
    "    for neighbour in temp[i].argsort()[::-1][1:5]:\n",
    "        if temp[i][neighbour] >= 0.8:\n",
    "            good_recs = good_recs + 1\n",
    "            if neighbour in approx_neighbour_set:\n",
    "                matched_recs = matched_recs + 1"
   ]
  },
  {
   "cell_type": "code",
   "execution_count": 167,
   "metadata": {},
   "outputs": [
    {
     "data": {
      "text/plain": [
       "0.8204604035196872"
      ]
     },
     "execution_count": 167,
     "metadata": {},
     "output_type": "execute_result"
    }
   ],
   "source": [
    "matched_recs / (good_recs*1.0)"
   ]
  },
  {
   "cell_type": "code",
   "execution_count": 113,
   "metadata": {},
   "outputs": [
    {
     "data": {
      "text/plain": [
       "array([ 0.        ,  0.        ,  0.        , ...,  0.62013951,\n",
       "        0.90966762,  1.        ])"
      ]
     },
     "execution_count": 113,
     "metadata": {},
     "output_type": "execute_result"
    }
   ],
   "source": [
    "temp[0]"
   ]
  },
  {
   "cell_type": "code",
   "execution_count": 143,
   "metadata": {},
   "outputs": [
    {
     "data": {
      "text/plain": [
       "[(3593, 0.91353560814450785),\n",
       " (22376, 0.62699604347517279),\n",
       " (21052, 0.42018786188148399),\n",
       " (6741, 0.36213352712957531),\n",
       " (15539, 0.17748486411336034),\n",
       " (15729, 0.15517862091450768),\n",
       " (10561, 0.15442064297184163),\n",
       " (13595, 0.15369151355990635),\n",
       " (13776, 0.14845487623120546),\n",
       " (2772, 0.14612807941129374)]"
      ]
     },
     "execution_count": 143,
     "metadata": {},
     "output_type": "execute_result"
    }
   ],
   "source": [
    "loc = 100\n",
    "x = temp[loc]\n",
    "sims = sorted(x,reverse=True)[1:11]\n",
    "zip(x.argsort()[::-1][1:11],sims)"
   ]
  },
  {
   "cell_type": "code",
   "execution_count": 144,
   "metadata": {},
   "outputs": [
    {
     "data": {
      "text/plain": [
       "(array([  100,  3593, 22376, 10561,  4111, 17346, 22054, 15599, 10716, 18452]),\n",
       " array([ 1.        ,  0.91353561,  0.62699604,  0.15442064,  0.08852738,\n",
       "         0.0847977 ,  0.08414279,  0.08330125,  0.08089559,  0.08015651]))"
      ]
     },
     "execution_count": 144,
     "metadata": {},
     "output_type": "execute_result"
    }
   ],
   "source": [
    "indices[loc],1-distances[loc]"
   ]
  },
  {
   "cell_type": "code",
   "execution_count": 146,
   "metadata": {},
   "outputs": [
    {
     "data": {
      "text/html": [
       "<div>\n",
       "<style>\n",
       "    .dataframe thead tr:only-child th {\n",
       "        text-align: right;\n",
       "    }\n",
       "\n",
       "    .dataframe thead th {\n",
       "        text-align: left;\n",
       "    }\n",
       "\n",
       "    .dataframe tbody tr th {\n",
       "        vertical-align: top;\n",
       "    }\n",
       "</style>\n",
       "<table border=\"1\" class=\"dataframe\">\n",
       "  <thead>\n",
       "    <tr style=\"text-align: right;\">\n",
       "      <th></th>\n",
       "      <th>0</th>\n",
       "      <th>1</th>\n",
       "      <th>2</th>\n",
       "      <th>3</th>\n",
       "      <th>4</th>\n",
       "      <th>5</th>\n",
       "      <th>6</th>\n",
       "      <th>7</th>\n",
       "      <th>8</th>\n",
       "      <th>9</th>\n",
       "      <th>10</th>\n",
       "    </tr>\n",
       "  </thead>\n",
       "  <tbody>\n",
       "    <tr>\n",
       "      <th>0</th>\n",
       "      <td>10050459f3606fa0.email</td>\n",
       "      <td>e427dd12d1d6d13e.email</td>\n",
       "      <td>d70a5453b567e146.email</td>\n",
       "      <td>None</td>\n",
       "      <td>None</td>\n",
       "      <td>None</td>\n",
       "      <td>None</td>\n",
       "      <td>None</td>\n",
       "      <td>None</td>\n",
       "      <td>None</td>\n",
       "      <td>None</td>\n",
       "    </tr>\n",
       "    <tr>\n",
       "      <th>1</th>\n",
       "      <td>1005a4968431c0f7.email</td>\n",
       "      <td>ba7f2199e231ac3d.email</td>\n",
       "      <td>None</td>\n",
       "      <td>None</td>\n",
       "      <td>None</td>\n",
       "      <td>None</td>\n",
       "      <td>None</td>\n",
       "      <td>None</td>\n",
       "      <td>None</td>\n",
       "      <td>None</td>\n",
       "      <td>None</td>\n",
       "    </tr>\n",
       "    <tr>\n",
       "      <th>2</th>\n",
       "      <td>1008506a9605b5f8.email</td>\n",
       "      <td>None</td>\n",
       "      <td>None</td>\n",
       "      <td>None</td>\n",
       "      <td>None</td>\n",
       "      <td>None</td>\n",
       "      <td>None</td>\n",
       "      <td>None</td>\n",
       "      <td>None</td>\n",
       "      <td>None</td>\n",
       "      <td>None</td>\n",
       "    </tr>\n",
       "    <tr>\n",
       "      <th>3</th>\n",
       "      <td>10096f47aee760f8.email</td>\n",
       "      <td>None</td>\n",
       "      <td>None</td>\n",
       "      <td>None</td>\n",
       "      <td>None</td>\n",
       "      <td>None</td>\n",
       "      <td>None</td>\n",
       "      <td>None</td>\n",
       "      <td>None</td>\n",
       "      <td>None</td>\n",
       "      <td>None</td>\n",
       "    </tr>\n",
       "    <tr>\n",
       "      <th>4</th>\n",
       "      <td>10148c2e4f11ed18.email</td>\n",
       "      <td>None</td>\n",
       "      <td>None</td>\n",
       "      <td>None</td>\n",
       "      <td>None</td>\n",
       "      <td>None</td>\n",
       "      <td>None</td>\n",
       "      <td>None</td>\n",
       "      <td>None</td>\n",
       "      <td>None</td>\n",
       "      <td>None</td>\n",
       "    </tr>\n",
       "  </tbody>\n",
       "</table>\n",
       "</div>"
      ],
      "text/plain": [
       "                       0                       1                       2   \\\n",
       "0  10050459f3606fa0.email  e427dd12d1d6d13e.email  d70a5453b567e146.email   \n",
       "1  1005a4968431c0f7.email  ba7f2199e231ac3d.email                    None   \n",
       "2  1008506a9605b5f8.email                    None                    None   \n",
       "3  10096f47aee760f8.email                    None                    None   \n",
       "4  10148c2e4f11ed18.email                    None                    None   \n",
       "\n",
       "     3     4     5     6     7     8     9     10  \n",
       "0  None  None  None  None  None  None  None  None  \n",
       "1  None  None  None  None  None  None  None  None  \n",
       "2  None  None  None  None  None  None  None  None  \n",
       "3  None  None  None  None  None  None  None  None  \n",
       "4  None  None  None  None  None  None  None  None  "
      ]
     },
     "execution_count": 146,
     "metadata": {},
     "output_type": "execute_result"
    }
   ],
   "source": [
    "ls=[]\n",
    "for i in range(cosine_sim.shape[0]):\n",
    "    #print i\n",
    "    temp = []\n",
    "    temp.append(files[i])\n",
    "    x = cosine_sim[i].argsort()[::-1][1:11]\n",
    "    for j in x:\n",
    "        if cosine_sim[i][j] > 0.5:\n",
    "            temp.append(files[int(j)])\n",
    "        else:\n",
    "            temp.append(-1)\n",
    "    ls.append(temp)\n",
    "\n",
    "dataFrame = pd.DataFrame(ls)\n",
    "dataFrame.head()"
   ]
  },
  {
   "cell_type": "code",
   "execution_count": null,
   "metadata": {
    "collapsed": true
   },
   "outputs": [],
   "source": []
  }
 ],
 "metadata": {
  "kernelspec": {
   "display_name": "Python 2",
   "language": "python",
   "name": "python2"
  },
  "language_info": {
   "codemirror_mode": {
    "name": "ipython",
    "version": 2
   },
   "file_extension": ".py",
   "mimetype": "text/x-python",
   "name": "python",
   "nbconvert_exporter": "python",
   "pygments_lexer": "ipython2",
   "version": "2.7.10"
  }
 },
 "nbformat": 4,
 "nbformat_minor": 2
}
